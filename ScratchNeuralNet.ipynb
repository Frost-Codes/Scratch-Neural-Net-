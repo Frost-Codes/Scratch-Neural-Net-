{
  "nbformat": 4,
  "nbformat_minor": 0,
  "metadata": {
    "colab": {
      "provenance": [],
      "authorship_tag": "ABX9TyNksaTANbb2mM3uz53tUSLY",
      "include_colab_link": true
    },
    "kernelspec": {
      "name": "python3",
      "display_name": "Python 3"
    },
    "language_info": {
      "name": "python"
    }
  },
  "cells": [
    {
      "cell_type": "markdown",
      "metadata": {
        "id": "view-in-github",
        "colab_type": "text"
      },
      "source": [
        "<a href=\"https://colab.research.google.com/github/Frost-Codes/Scratch-Neural-Net-/blob/main/ScratchNeuralNet.ipynb\" target=\"_parent\"><img src=\"https://colab.research.google.com/assets/colab-badge.svg\" alt=\"Open In Colab\"/></a>"
      ]
    },
    {
      "cell_type": "markdown",
      "source": [
        "**Creating a Neural Network from Scratch**\n",
        "\n",
        "We'll create the neural network using numpy python library. You need to be familiar with basic calculus concepts like:\n",
        "\n",
        "  *   Power Rule\n",
        "  *   Constant multiplier rule\n",
        "  *   Product rule\n",
        "  *   Quotient rule\n",
        "  *   chain rule\n",
        "  *   Derivative of exp and maybe ln\n",
        "  *   Partial Derivatives\n",
        "\n",
        "**The basics of a neural net are:**\n",
        "\n",
        "1. A forward pass where we multiply inputs(X/features) with the weights, add a bias then pass results through an activation function to introduce non-linearlity.\n",
        "\n",
        "2. Repeat step 1 util you get to output layer where you will use a function of your choice e.g softmax to tailor you output according to your requirements.\n",
        "\n",
        "3. Calculate the loss of the neural network i.e (Y_target - Y_predictions)...this tells you how far the neural nets predictions are from the true values\n",
        "\n",
        "4. Calculate the gradient of the loss with respect to the weights and bias for each layer (Calculus)\n",
        "\n",
        "5. Update weights and bias for each layer (w_new -= learning_rate * w_change)\n",
        "\n",
        "Learning rate defines the size of the step you take in gradient decent."
      ],
      "metadata": {
        "id": "DDA-wojaBYGk"
      }
    },
    {
      "cell_type": "code",
      "execution_count": null,
      "metadata": {
        "id": "BQ2ISCXRBXO9"
      },
      "outputs": [],
      "source": []
    },
    {
      "cell_type": "code",
      "source": [
        "\"\"\"\n",
        "1. We use random values for weights to break symetry...if we used same values of weights all neurons in a layer will compute the same\n",
        "gradients and thus update in the same way during training. randomness helps model learn different features (Symmetry problems arise when all\n",
        "neurons in a layer start with the same weights, causing them to update in the same way and learn the same features.)\n",
        "\n",
        "2. Weights multiplied by 0.01 to avoid large initial values that could lead to vanishing gradient problem especially if we had used sigmoid\n",
        "or tanh  activation\n",
        "\n",
        "3. Bias enables the activation function to move up, down, left and right on number graph. They have no symetry problem therefore we initialize\n",
        "them with zeros for simplicity and practicality\n",
        "\n",
        "\"\"\""
      ],
      "metadata": {
        "id": "1syYcR96GuVE"
      },
      "execution_count": null,
      "outputs": []
    },
    {
      "cell_type": "code",
      "source": [],
      "metadata": {
        "id": "C90_FUt3HT9q"
      },
      "execution_count": null,
      "outputs": []
    },
    {
      "cell_type": "code",
      "source": [
        "import numpy as np\n",
        "import matplotlib.pyplot as plt\n",
        "\n",
        "class NeuralNetwork:\n",
        "\n",
        "    def __init__(self, input_size, hidden_nodes, output_nodes):\n",
        "        \"\"\"\n",
        "        input_size: number of features (int)\n",
        "        hidden_nodes: number of hidden nodes (int)\n",
        "        output_nodes: number of output nodes (int)\n",
        "        \"\"\"\n",
        "        np.random.seed(1)\n",
        "\n",
        "        self.w1 = np.random.randn(input_size, hidden_nodes) * 0.01\n",
        "        self.b1 = np.zeros((1, hidden_nodes))\n",
        "\n",
        "        self.w2 = np.random.randn(hidden_nodes, output_nodes) * 0.01\n",
        "        self.b2 = np.zeros((1, output_nodes))\n",
        "\n",
        "    def relu(self, z):\n",
        "        \"\"\"\n",
        "        Relu(x) = max(0 ,x)\n",
        "        \"\"\"\n",
        "        return np.maximum(0, z)\n",
        "\n",
        "    def sigmoid(self, z):\n",
        "        \"\"\"\n",
        "        Sigmoid activation function\n",
        "        \"\"\"\n",
        "        return 1 / (1 + np.exp(-z)) # formula\n",
        "\n",
        "\n",
        "    def softmax(self, logit):\n",
        "        \"\"\"\n",
        "        Softmax\n",
        "        \"\"\"\n",
        "        logit = logit - np.max(logit, axis=1, keepdims=True) # we substaract maximum logit value from each logit for numerical stability...prevents large exponentials that could lead to overflow\n",
        "        exponential = np.exp(logit)\n",
        "        return exponential / np.sum(exponential, axis=1, keepdims=True)\n",
        "\n",
        "    def relu_derivative(self, z):\n",
        "        \"\"\"\n",
        "        relu has 2 derivatives case 1: z > 0 (1) case 2: z<=0 (0)\n",
        "        \"\"\"\n",
        "        return np.where(z > 0, 1, 0)\n",
        "\n",
        "    def one_hot_encode(self, Y):\n",
        "        \"\"\"\n",
        "        One hot encode all classes\n",
        "        \"\"\"\n",
        "        num_classes = np.max(Y) + 1\n",
        "        one_hot = np.zeros((Y.size, num_classes))\n",
        "\n",
        "        one_hot[np.arange(Y.size), Y] = 1\n",
        "\n",
        "        return one_hot\n",
        "\n",
        "    def one_hot_decode(self, one_hot):\n",
        "        \"\"\"\n",
        "        Decode one hot arrays\n",
        "        \"\"\"\n",
        "        return np.argmax(one_hot, axis=1)\n",
        "\n",
        "\n",
        "    def categorical_loss(self, y_target, y_prediction):\n",
        "        \"\"\"\n",
        "        Calculates categorical loss\n",
        "        The logarithm function np.log is undefined for non-positive values (i.e., log(0), log(-1) is\n",
        "        undefined and can cause numerical instability or infinite values). To prevent this, a very small\n",
        "        value (in this case, 1e-9) is added to y_prediction for numerical stability\n",
        "\n",
        "        y_target: true values of y\n",
        "        y_prediction: predicted values for y\n",
        "        \"\"\"\n",
        "        m = y_target.shape[0] # total predictions\n",
        "        loss = -np.sum(y_target * np.log(y_prediction + 1e-9)) / m # Divide by number of samples to get avg error\n",
        "        return loss\n",
        "\n",
        "    def forward(self, X):\n",
        "        \"\"\"\n",
        "        Does a forward pass\n",
        "        X: features\n",
        "        returns: z1, a1, z2, a2\n",
        "        \"\"\"\n",
        "        z1 = np.dot(X, self.w1) + self.b1 # forward pass for hidden layer\n",
        "        a1 = self.relu(z1)\n",
        "\n",
        "        z2 = np.dot(a1, self.w2) + self.b2 # forward pass for ouput layer\n",
        "        a2 = self.softmax(z2)\n",
        "\n",
        "        return z1, a1, z2, a2\n",
        "\n",
        "    def backpropagation(self, z1, a1, z2, a2, X, Y):\n",
        "        m = X.shape[0] # total features\n",
        "\n",
        "        # Output layer gradients\n",
        "        dZ2 = a2 - Y # how far predictions are from targets(True values)\n",
        "        w2_change = np.dot(a1.T, dZ2) / m # dot product of layer input transposed and dZ2 ::gradient of loss with respect to ouput layer weights --> same shape as w2\n",
        "        b2_change = np.sum(dZ2, axis=0, keepdims=True) / m # sum error on columns then divide by m(sample size) -> normalized matrix same shape as b2\n",
        "\n",
        "        # Hidden layer gradients\n",
        "        dA1 = np.dot(dZ2, self.w2.T) # Gradient of activation function of hidden layer..propagates the error backward from output layer to hidden layer\n",
        "        dZ1 = dA1 * self.relu_derivative(z1) # Undo relu activation and multiply it by gradient of activation function to get Gradient of the Weighted Input of the Hidden Layer\n",
        "        w1_change = np.dot(X.T, dZ1) / m # Gradient of loss with respect to hidden layer weights --> same shape as w1\n",
        "        b1_change = np.sum(dZ1, axis=0, keepdims=True) / m # sum error on columns then divide by m(sample size) -> normalized matrix same shape as b1\n",
        "\n",
        "        return w1_change, b1_change, w2_change, b2_change\n",
        "\n",
        "\n",
        "    def update_parameters(self, w1_change, b1_change, w2_change, b2_change, learning_rate):\n",
        "        \"\"\"\"\n",
        "        Updates weights and bias\n",
        "        w1_change: change in weight 1\n",
        "        b1_change: change in bias 1\n",
        "        w2_change: change in weight 2\n",
        "        b2_change: change in bias 2\n",
        "        learning_rate: size of step to take during gradient decent\n",
        "        \"\"\"\n",
        "        self.w1 -= learning_rate * w1_change\n",
        "        self.b1 -= learning_rate * b1_change\n",
        "        self.w2 -= learning_rate * w2_change\n",
        "        self.b2 -= learning_rate * b2_change\n",
        "\n",
        "    def fit(self, X, Y, epochs, learning_rate):\n",
        "        \"\"\"\n",
        "        X: features\n",
        "        Y: targets\n",
        "        epochs: Number of complete presentations of training data to model (int)\n",
        "        learning_rate: size of step to take during gradient decent\n",
        "        returns: None: finds optimum values for w1, b1, w2, b2\n",
        "        \"\"\"\n",
        "\n",
        "        learning_rate = np.float32(learning_rate)\n",
        "        for iteration in range(0, epochs + 1):\n",
        "\n",
        "            # shuffling data to ensure model does not learn patterns specific to data order\n",
        "            indices = np.arange(X.shape[0])\n",
        "            np.random.shuffle(indices)\n",
        "            X = X[indices]\n",
        "            Y = Y[indices]\n",
        "\n",
        "            # forward pass\n",
        "            z1, a1, z2, a2 = self.forward(X)\n",
        "\n",
        "            # back pass\n",
        "            w1_change, b1_change, w2_change, b2_change = self.backpropagation( z1, a1, z2, a2, X, Y)\n",
        "\n",
        "            # update weights\n",
        "            self.update_parameters(w1_change, b1_change, w2_change, b2_change, learning_rate)\n",
        "\n",
        "            if iteration % 50 == 0:\n",
        "                loss = self.categorical_loss(Y, a2)\n",
        "                print(f\"Epoch: {iteration}/{epochs} [{'=' * 30}] Loss: {loss:.4f} - Accuracy: {self.accuracy(X, Y):.2f}\")\n",
        "\n",
        "\n",
        "    def accuracy(self, X, Y):\n",
        "        \"\"\"\n",
        "        X: Features\n",
        "        Y: Target\n",
        "        returns: % accuracy of predictions\n",
        "        \"\"\"\n",
        "        prediction = self.forward(X)[-1]\n",
        "        ind = np.argmax(prediction, axis=1)\n",
        "        check = np.zeros_like(prediction)\n",
        "        check[np.arange(check.shape[0]), ind] = 1\n",
        "\n",
        "        return (np.sum(np.all(check == Y, axis=1)) / check.shape[0]) * 100\n",
        "\n",
        "\n",
        "\n",
        "    def predict_show(self, X, Y):\n",
        "        \"\"\"\n",
        "        X: feature\n",
        "        Y: target\n",
        "        returns: Prediction and display of image\n",
        "        \"\"\"\n",
        "        prediction = self.forward(X)[-1]\n",
        "        ind = self.one_hot_decode(prediction)\n",
        "        print(f'Predicted: {ind} actual is: {self.one_hot_decode(Y)}')\n",
        "\n",
        "        to_plot = X.reshape(28, 28)\n",
        "        plt.gray()\n",
        "        plt.imshow(to_plot, interpolation='nearest');\n",
        "        plt.title(self.one_hot_decode(Y))\n",
        "\n",
        ""
      ],
      "metadata": {
        "id": "UNc9Hl7MGwlb"
      },
      "execution_count": 1,
      "outputs": []
    },
    {
      "cell_type": "code",
      "source": [],
      "metadata": {
        "id": "SD3RGw3gGwxu"
      },
      "execution_count": null,
      "outputs": []
    },
    {
      "cell_type": "code",
      "source": [],
      "metadata": {
        "id": "kJJNotSAItUb"
      },
      "execution_count": null,
      "outputs": []
    },
    {
      "cell_type": "markdown",
      "source": [
        "**Trying the model on MNIST hand written digits data set**"
      ],
      "metadata": {
        "id": "znITh89EIkg4"
      }
    },
    {
      "cell_type": "code",
      "source": [
        "# Loading data set from keras\n",
        "from keras.datasets import mnist\n",
        "(train_images, train_labels), (test_images, test_labels) = mnist.load_data()"
      ],
      "metadata": {
        "colab": {
          "base_uri": "https://localhost:8080/"
        },
        "id": "inrF-a8qHmzX",
        "outputId": "01deb7f8-e511-452e-c292-6a7f4733674e"
      },
      "execution_count": 6,
      "outputs": [
        {
          "output_type": "stream",
          "name": "stdout",
          "text": [
            "Downloading data from https://storage.googleapis.com/tensorflow/tf-keras-datasets/mnist.npz\n",
            "11490434/11490434 [==============================] - 0s 0us/step\n"
          ]
        }
      ]
    },
    {
      "cell_type": "code",
      "source": [],
      "metadata": {
        "id": "xSESI3GWHof3"
      },
      "execution_count": null,
      "outputs": []
    },
    {
      "cell_type": "code",
      "source": [
        "# creating training and test sets\n",
        "x_train = train_images.reshape(train_images.shape[0], train_images.shape[1]* train_images.shape[2]) / 255\n",
        "y_train = train_labels\n",
        "\n",
        "x_test = test_images.reshape(test_images.shape[0], test_images.shape[1]* test_images.shape[2]) / 255\n",
        "y_test = test_labels"
      ],
      "metadata": {
        "id": "YAXm7bXGHo1R"
      },
      "execution_count": 7,
      "outputs": []
    },
    {
      "cell_type": "code",
      "source": [
        "print('X_train Shape:', x_train.shape)\n",
        "print('Y_train shape:', y_train.shape)\n",
        "print('X_test shape:', x_test.shape)\n",
        "print('Y_test shape:', y_test.shape)"
      ],
      "metadata": {
        "colab": {
          "base_uri": "https://localhost:8080/"
        },
        "id": "DSxRPSpAHsv7",
        "outputId": "c947c6fa-4c03-4986-92b0-110f8d7bb5b5"
      },
      "execution_count": 8,
      "outputs": [
        {
          "output_type": "stream",
          "name": "stdout",
          "text": [
            "X_train Shape: (60000, 784)\n",
            "Y_train shape: (60000,)\n",
            "X_test shape: (10000, 784)\n",
            "Y_test shape: (10000,)\n"
          ]
        }
      ]
    },
    {
      "cell_type": "code",
      "source": [
        "\"\"\"\n",
        "Setting some hyperparameters...try changing hidden size to see effect number of hidden nodes has on accuracy and loss\n",
        "\n",
        "\"\"\"\n",
        "input_size = x_train.shape[1]\n",
        "hidden_size = 6\n",
        "output_size = 10\n",
        "nn = NeuralNetwork(input_size, hidden_size, output_size)"
      ],
      "metadata": {
        "id": "JZciwcvpHwOQ"
      },
      "execution_count": 9,
      "outputs": []
    },
    {
      "cell_type": "code",
      "source": [
        "# training\n",
        "%%time\n",
        "nn.fit(X=x_train,  Y=nn.one_hot_encode(y_train), epochs=1000, learning_rate=0.1)"
      ],
      "metadata": {
        "colab": {
          "base_uri": "https://localhost:8080/"
        },
        "id": "E8w4PFVUH6ex",
        "outputId": "0ba56a36-566a-433d-9a3d-e37de49beb69"
      },
      "execution_count": 10,
      "outputs": [
        {
          "output_type": "stream",
          "name": "stdout",
          "text": [
            "Epoch: 0/1000 [==============================] Loss: 2.3028 - Accuracy: 9.52\n",
            "Epoch: 50/1000 [==============================] Loss: 2.2849 - Accuracy: 34.47\n",
            "Epoch: 100/1000 [==============================] Loss: 1.8540 - Accuracy: 48.61\n",
            "Epoch: 150/1000 [==============================] Loss: 1.2066 - Accuracy: 67.72\n",
            "Epoch: 200/1000 [==============================] Loss: 0.9002 - Accuracy: 76.97\n",
            "Epoch: 250/1000 [==============================] Loss: 0.7169 - Accuracy: 80.20\n",
            "Epoch: 300/1000 [==============================] Loss: 0.6270 - Accuracy: 82.02\n",
            "Epoch: 350/1000 [==============================] Loss: 0.5733 - Accuracy: 83.38\n",
            "Epoch: 400/1000 [==============================] Loss: 0.5333 - Accuracy: 84.52\n",
            "Epoch: 450/1000 [==============================] Loss: 0.5001 - Accuracy: 85.63\n",
            "Epoch: 500/1000 [==============================] Loss: 0.4722 - Accuracy: 86.42\n",
            "Epoch: 550/1000 [==============================] Loss: 0.4496 - Accuracy: 87.15\n",
            "Epoch: 600/1000 [==============================] Loss: 0.4320 - Accuracy: 87.79\n",
            "Epoch: 650/1000 [==============================] Loss: 0.4184 - Accuracy: 88.16\n",
            "Epoch: 700/1000 [==============================] Loss: 0.4076 - Accuracy: 88.50\n",
            "Epoch: 750/1000 [==============================] Loss: 0.3989 - Accuracy: 88.75\n",
            "Epoch: 800/1000 [==============================] Loss: 0.3917 - Accuracy: 88.95\n",
            "Epoch: 850/1000 [==============================] Loss: 0.3856 - Accuracy: 89.13\n",
            "Epoch: 900/1000 [==============================] Loss: 0.3803 - Accuracy: 89.27\n",
            "Epoch: 950/1000 [==============================] Loss: 0.3756 - Accuracy: 89.39\n",
            "Epoch: 1000/1000 [==============================] Loss: 0.3715 - Accuracy: 89.50\n",
            "CPU times: user 9min 34s, sys: 3min 32s, total: 13min 6s\n",
            "Wall time: 8min 17s\n"
          ]
        }
      ]
    },
    {
      "cell_type": "code",
      "source": [],
      "metadata": {
        "id": "P6r6o-uHIyXb"
      },
      "execution_count": null,
      "outputs": []
    },
    {
      "cell_type": "code",
      "source": [
        "# Accuracy\n",
        "nn.accuracy(X=x_test, Y=nn.one_hot_encode(y_test))"
      ],
      "metadata": {
        "colab": {
          "base_uri": "https://localhost:8080/"
        },
        "id": "IuF401B2Iyv6",
        "outputId": "a0ca7057-a790-4ec9-8bda-ad5460d148fb"
      },
      "execution_count": 12,
      "outputs": [
        {
          "output_type": "execute_result",
          "data": {
            "text/plain": [
              "89.67"
            ]
          },
          "metadata": {},
          "execution_count": 12
        }
      ]
    },
    {
      "cell_type": "code",
      "source": [],
      "metadata": {
        "id": "CXuWvyosI5v3"
      },
      "execution_count": null,
      "outputs": []
    },
    {
      "cell_type": "code",
      "source": [
        "# random image prediction\n",
        "image = np.random.randint(0, x_test.shape[0])\n",
        "nn.predict_show(x_test[image], Y=nn.one_hot_encode(y_test[image]))"
      ],
      "metadata": {
        "colab": {
          "base_uri": "https://localhost:8080/",
          "height": 469
        },
        "id": "EPvXAwZSI6g4",
        "outputId": "27438a88-1a7c-4b89-ee83-c8f4575ca1a4"
      },
      "execution_count": 19,
      "outputs": [
        {
          "output_type": "stream",
          "name": "stdout",
          "text": [
            "Predicted: [6] actual is: [6]\n"
          ]
        },
        {
          "output_type": "display_data",
          "data": {
            "text/plain": [
              "<Figure size 640x480 with 1 Axes>"
            ],
            "image/png": "[encoded data removed]"
          },
          "metadata": {}
        }
      ]
    },
    {
      "cell_type": "code",
      "source": [],
      "metadata": {
        "id": "XIx2uLv_JdXw"
      },
      "execution_count": null,
      "outputs": []
    },
    {
      "cell_type": "code",
      "source": [],
      "metadata": {
        "id": "lIyQY96OJkp8"
      },
      "execution_count": null,
      "outputs": []
    },
    {
      "cell_type": "markdown",
      "source": [
        "**Trying model on Fashion MNIST version**"
      ],
      "metadata": {
        "id": "YiwaOiusJeYo"
      }
    },
    {
      "cell_type": "code",
      "source": [
        "from zipfile import ZipFile\n",
        "import pandas as pd\n",
        "import matplotlib.pyplot as plt"
      ],
      "metadata": {
        "id": "4h3lSEoPKNbG"
      },
      "execution_count": 2,
      "outputs": []
    },
    {
      "cell_type": "code",
      "source": [],
      "metadata": {
        "id": "9_kvFaKBLtbK"
      },
      "execution_count": null,
      "outputs": []
    },
    {
      "cell_type": "code",
      "source": [
        "data_url = 'https://www.kaggle.com/datasets/zalando-research/fashionmnist/data'"
      ],
      "metadata": {
        "id": "XnLWmp5OJjql"
      },
      "execution_count": 3,
      "outputs": []
    },
    {
      "cell_type": "code",
      "source": [
        "! kaggle datasets download -d zalando-research/fashionmnist"
      ],
      "metadata": {
        "id": "SSBpI7YKJqyk"
      },
      "execution_count": null,
      "outputs": []
    },
    {
      "cell_type": "code",
      "source": [
        "# Extracting files\n",
        "with ZipFile('fashionmnist.zip') as zp:\n",
        "  zp.extractall()"
      ],
      "metadata": {
        "id": "EBiCvfZmKG3i"
      },
      "execution_count": 5,
      "outputs": []
    },
    {
      "cell_type": "code",
      "source": [
        "# reading data to df\n",
        "fashion_train = pd.read_csv('./fashion-mnist_train.csv')\n",
        "fashion_test = pd.read_csv('./fashion-mnist_train.csv')"
      ],
      "metadata": {
        "id": "DzOsCg-aKrO6"
      },
      "execution_count": 6,
      "outputs": []
    },
    {
      "cell_type": "code",
      "source": [
        "# Keys\n",
        "look_up = {0 : 'T-shirt/top', 1: 'Trouser', 2: 'Pullover', 3: 'Dress', 4:\n",
        "           'Coat', 5: 'Sandal',6: 'Shirt', 7: 'Sneaker', 8: 'Bag',\n",
        "           9: 'Ankle boot'}"
      ],
      "metadata": {
        "id": "hw32BB3QLGXK"
      },
      "execution_count": 7,
      "outputs": []
    },
    {
      "cell_type": "code",
      "source": [
        "# df head\n",
        "fashion_test.head()"
      ],
      "metadata": {
        "colab": {
          "base_uri": "https://localhost:8080/",
          "height": 255
        },
        "id": "NO30ibvILNuX",
        "outputId": "1c32ad9e-4f67-4c67-db15-b7f6326827a1"
      },
      "execution_count": 8,
      "outputs": [
        {
          "output_type": "execute_result",
          "data": {
            "text/plain": [
              "   label  pixel1  pixel2  pixel3  pixel4  pixel5  pixel6  pixel7  pixel8  \\\n",
              "0      2       0       0       0       0       0       0       0       0   \n",
              "1      9       0       0       0       0       0       0       0       0   \n",
              "2      6       0       0       0       0       0       0       0       5   \n",
              "3      0       0       0       0       1       2       0       0       0   \n",
              "4      3       0       0       0       0       0       0       0       0   \n",
              "\n",
              "   pixel9  ...  pixel775  pixel776  pixel777  pixel778  pixel779  pixel780  \\\n",
              "0       0  ...         0         0         0         0         0         0   \n",
              "1       0  ...         0         0         0         0         0         0   \n",
              "2       0  ...         0         0         0        30        43         0   \n",
              "3       0  ...         3         0         0         0         0         1   \n",
              "4       0  ...         0         0         0         0         0         0   \n",
              "\n",
              "   pixel781  pixel782  pixel783  pixel784  \n",
              "0         0         0         0         0  \n",
              "1         0         0         0         0  \n",
              "2         0         0         0         0  \n",
              "3         0         0         0         0  \n",
              "4         0         0         0         0  \n",
              "\n",
              "[5 rows x 785 columns]"
            ],
            "text/html": [
              "\n",
              "  <div id=\"df-75c5875d-58b6-4203-8bc4-b19f7cecc5e1\" class=\"colab-df-container\">\n",
              "    <div>\n",
              "<style scoped>\n",
              "    .dataframe tbody tr th:only-of-type {\n",
              "        vertical-align: middle;\n",
              "    }\n",
              "\n",
              "    .dataframe tbody tr th {\n",
              "        vertical-align: top;\n",
              "    }\n",
              "\n",
              "    .dataframe thead th {\n",
              "        text-align: right;\n",
              "    }\n",
              "</style>\n",
              "<table border=\"1\" class=\"dataframe\">\n",
              "  <thead>\n",
              "    <tr style=\"text-align: right;\">\n",
              "      <th></th>\n",
              "      <th>label</th>\n",
              "      <th>pixel1</th>\n",
              "      <th>pixel2</th>\n",
              "      <th>pixel3</th>\n",
              "      <th>pixel4</th>\n",
              "      <th>pixel5</th>\n",
              "      <th>pixel6</th>\n",
              "      <th>pixel7</th>\n",
              "      <th>pixel8</th>\n",
              "      <th>pixel9</th>\n",
              "      <th>...</th>\n",
              "      <th>pixel775</th>\n",
              "      <th>pixel776</th>\n",
              "      <th>pixel777</th>\n",
              "      <th>pixel778</th>\n",
              "      <th>pixel779</th>\n",
              "      <th>pixel780</th>\n",
              "      <th>pixel781</th>\n",
              "      <th>pixel782</th>\n",
              "      <th>pixel783</th>\n",
              "      <th>pixel784</th>\n",
              "    </tr>\n",
              "  </thead>\n",
              "  <tbody>\n",
              "    <tr>\n",
              "      <th>0</th>\n",
              "      <td>2</td>\n",
              "      <td>0</td>\n",
              "      <td>0</td>\n",
              "      <td>0</td>\n",
              "      <td>0</td>\n",
              "      <td>0</td>\n",
              "      <td>0</td>\n",
              "      <td>0</td>\n",
              "      <td>0</td>\n",
              "      <td>0</td>\n",
              "      <td>...</td>\n",
              "      <td>0</td>\n",
              "      <td>0</td>\n",
              "      <td>0</td>\n",
              "      <td>0</td>\n",
              "      <td>0</td>\n",
              "      <td>0</td>\n",
              "      <td>0</td>\n",
              "      <td>0</td>\n",
              "      <td>0</td>\n",
              "      <td>0</td>\n",
              "    </tr>\n",
              "    <tr>\n",
              "      <th>1</th>\n",
              "      <td>9</td>\n",
              "      <td>0</td>\n",
              "      <td>0</td>\n",
              "      <td>0</td>\n",
              "      <td>0</td>\n",
              "      <td>0</td>\n",
              "      <td>0</td>\n",
              "      <td>0</td>\n",
              "      <td>0</td>\n",
              "      <td>0</td>\n",
              "      <td>...</td>\n",
              "      <td>0</td>\n",
              "      <td>0</td>\n",
              "      <td>0</td>\n",
              "      <td>0</td>\n",
              "      <td>0</td>\n",
              "      <td>0</td>\n",
              "      <td>0</td>\n",
              "      <td>0</td>\n",
              "      <td>0</td>\n",
              "      <td>0</td>\n",
              "    </tr>\n",
              "    <tr>\n",
              "      <th>2</th>\n",
              "      <td>6</td>\n",
              "      <td>0</td>\n",
              "      <td>0</td>\n",
              "      <td>0</td>\n",
              "      <td>0</td>\n",
              "      <td>0</td>\n",
              "      <td>0</td>\n",
              "      <td>0</td>\n",
              "      <td>5</td>\n",
              "      <td>0</td>\n",
              "      <td>...</td>\n",
              "      <td>0</td>\n",
              "      <td>0</td>\n",
              "      <td>0</td>\n",
              "      <td>30</td>\n",
              "      <td>43</td>\n",
              "      <td>0</td>\n",
              "      <td>0</td>\n",
              "      <td>0</td>\n",
              "      <td>0</td>\n",
              "      <td>0</td>\n",
              "    </tr>\n",
              "    <tr>\n",
              "      <th>3</th>\n",
              "      <td>0</td>\n",
              "      <td>0</td>\n",
              "      <td>0</td>\n",
              "      <td>0</td>\n",
              "      <td>1</td>\n",
              "      <td>2</td>\n",
              "      <td>0</td>\n",
              "      <td>0</td>\n",
              "      <td>0</td>\n",
              "      <td>0</td>\n",
              "      <td>...</td>\n",
              "      <td>3</td>\n",
              "      <td>0</td>\n",
              "      <td>0</td>\n",
              "      <td>0</td>\n",
              "      <td>0</td>\n",
              "      <td>1</td>\n",
              "      <td>0</td>\n",
              "      <td>0</td>\n",
              "      <td>0</td>\n",
              "      <td>0</td>\n",
              "    </tr>\n",
              "    <tr>\n",
              "      <th>4</th>\n",
              "      <td>3</td>\n",
              "      <td>0</td>\n",
              "      <td>0</td>\n",
              "      <td>0</td>\n",
              "      <td>0</td>\n",
              "      <td>0</td>\n",
              "      <td>0</td>\n",
              "      <td>0</td>\n",
              "      <td>0</td>\n",
              "      <td>0</td>\n",
              "      <td>...</td>\n",
              "      <td>0</td>\n",
              "      <td>0</td>\n",
              "      <td>0</td>\n",
              "      <td>0</td>\n",
              "      <td>0</td>\n",
              "      <td>0</td>\n",
              "      <td>0</td>\n",
              "      <td>0</td>\n",
              "      <td>0</td>\n",
              "      <td>0</td>\n",
              "    </tr>\n",
              "  </tbody>\n",
              "</table>\n",
              "<p>5 rows × 785 columns</p>\n",
              "</div>\n",
              "    <div class=\"colab-df-buttons\">\n",
              "\n",
              "  <div class=\"colab-df-container\">\n",
              "    <button class=\"colab-df-convert\" onclick=\"convertToInteractive('df-75c5875d-58b6-4203-8bc4-b19f7cecc5e1')\"\n",
              "            title=\"Convert this dataframe to an interactive table.\"\n",
              "            style=\"display:none;\">\n",
              "\n",
              "  <svg xmlns=\"http://www.w3.org/2000/svg\" height=\"24px\" viewBox=\"0 -960 960 960\">\n",
              "    <path d=\"M120-120v-720h720v720H120Zm60-500h600v-160H180v160Zm220 220h160v-160H400v160Zm0 220h160v-160H400v160ZM180-400h160v-160H180v160Zm440 0h160v-160H620v160ZM180-180h160v-160H180v160Zm440 0h160v-160H620v160Z\"/>\n",
              "  </svg>\n",
              "    </button>\n",
              "\n",
              "  <style>\n",
              "    .colab-df-container {\n",
              "      display:flex;\n",
              "      gap: 12px;\n",
              "    }\n",
              "\n",
              "    .colab-df-convert {\n",
              "      background-color: #E8F0FE;\n",
              "      border: none;\n",
              "      border-radius: 50%;\n",
              "      cursor: pointer;\n",
              "      display: none;\n",
              "      fill: #1967D2;\n",
              "      height: 32px;\n",
              "      padding: 0 0 0 0;\n",
              "      width: 32px;\n",
              "    }\n",
              "\n",
              "    .colab-df-convert:hover {\n",
              "      background-color: #E2EBFA;\n",
              "      box-shadow: 0px 1px 2px rgba(60, 64, 67, 0.3), 0px 1px 3px 1px rgba(60, 64, 67, 0.15);\n",
              "      fill: #174EA6;\n",
              "    }\n",
              "\n",
              "    .colab-df-buttons div {\n",
              "      margin-bottom: 4px;\n",
              "    }\n",
              "\n",
              "    [theme=dark] .colab-df-convert {\n",
              "      background-color: #3B4455;\n",
              "      fill: #D2E3FC;\n",
              "    }\n",
              "\n",
              "    [theme=dark] .colab-df-convert:hover {\n",
              "      background-color: #434B5C;\n",
              "      box-shadow: 0px 1px 3px 1px rgba(0, 0, 0, 0.15);\n",
              "      filter: drop-shadow(0px 1px 2px rgba(0, 0, 0, 0.3));\n",
              "      fill: #FFFFFF;\n",
              "    }\n",
              "  </style>\n",
              "\n",
              "    <script>\n",
              "      const buttonEl =\n",
              "        document.querySelector('#df-75c5875d-58b6-4203-8bc4-b19f7cecc5e1 button.colab-df-convert');\n",
              "      buttonEl.style.display =\n",
              "        google.colab.kernel.accessAllowed ? 'block' : 'none';\n",
              "\n",
              "      async function convertToInteractive(key) {\n",
              "        const element = document.querySelector('#df-75c5875d-58b6-4203-8bc4-b19f7cecc5e1');\n",
              "        const dataTable =\n",
              "          await google.colab.kernel.invokeFunction('convertToInteractive',\n",
              "                                                    [key], {});\n",
              "        if (!dataTable) return;\n",
              "\n",
              "        const docLinkHtml = 'Like what you see? Visit the ' +\n",
              "          '<a target=\"_blank\" href=https://colab.research.google.com/notebooks/data_table.ipynb>data table notebook</a>'\n",
              "          + ' to learn more about interactive tables.';\n",
              "        element.innerHTML = '';\n",
              "        dataTable['output_type'] = 'display_data';\n",
              "        await google.colab.output.renderOutput(dataTable, element);\n",
              "        const docLink = document.createElement('div');\n",
              "        docLink.innerHTML = docLinkHtml;\n",
              "        element.appendChild(docLink);\n",
              "      }\n",
              "    </script>\n",
              "  </div>\n",
              "\n",
              "\n",
              "<div id=\"df-f805b4f9-4862-4a9c-b6c0-1e6afe143fa5\">\n",
              "  <button class=\"colab-df-quickchart\" onclick=\"quickchart('df-f805b4f9-4862-4a9c-b6c0-1e6afe143fa5')\"\n",
              "            title=\"Suggest charts\"\n",
              "            style=\"display:none;\">\n",
              "\n",
              "<svg xmlns=\"http://www.w3.org/2000/svg\" height=\"24px\"viewBox=\"0 0 24 24\"\n",
              "     width=\"24px\">\n",
              "    <g>\n",
              "        <path d=\"M19 3H5c-1.1 0-2 .9-2 2v14c0 1.1.9 2 2 2h14c1.1 0 2-.9 2-2V5c0-1.1-.9-2-2-2zM9 17H7v-7h2v7zm4 0h-2V7h2v10zm4 0h-2v-4h2v4z\"/>\n",
              "    </g>\n",
              "</svg>\n",
              "  </button>\n",
              "\n",
              "<style>\n",
              "  .colab-df-quickchart {\n",
              "      --bg-color: #E8F0FE;\n",
              "      --fill-color: #1967D2;\n",
              "      --hover-bg-color: #E2EBFA;\n",
              "      --hover-fill-color: #174EA6;\n",
              "      --disabled-fill-color: #AAA;\n",
              "      --disabled-bg-color: #DDD;\n",
              "  }\n",
              "\n",
              "  [theme=dark] .colab-df-quickchart {\n",
              "      --bg-color: #3B4455;\n",
              "      --fill-color: #D2E3FC;\n",
              "      --hover-bg-color: #434B5C;\n",
              "      --hover-fill-color: #FFFFFF;\n",
              "      --disabled-bg-color: #3B4455;\n",
              "      --disabled-fill-color: #666;\n",
              "  }\n",
              "\n",
              "  .colab-df-quickchart {\n",
              "    background-color: var(--bg-color);\n",
              "    border: none;\n",
              "    border-radius: 50%;\n",
              "    cursor: pointer;\n",
              "    display: none;\n",
              "    fill: var(--fill-color);\n",
              "    height: 32px;\n",
              "    padding: 0;\n",
              "    width: 32px;\n",
              "  }\n",
              "\n",
              "  .colab-df-quickchart:hover {\n",
              "    background-color: var(--hover-bg-color);\n",
              "    box-shadow: 0 1px 2px rgba(60, 64, 67, 0.3), 0 1px 3px 1px rgba(60, 64, 67, 0.15);\n",
              "    fill: var(--button-hover-fill-color);\n",
              "  }\n",
              "\n",
              "  .colab-df-quickchart-complete:disabled,\n",
              "  .colab-df-quickchart-complete:disabled:hover {\n",
              "    background-color: var(--disabled-bg-color);\n",
              "    fill: var(--disabled-fill-color);\n",
              "    box-shadow: none;\n",
              "  }\n",
              "\n",
              "  .colab-df-spinner {\n",
              "    border: 2px solid var(--fill-color);\n",
              "    border-color: transparent;\n",
              "    border-bottom-color: var(--fill-color);\n",
              "    animation:\n",
              "      spin 1s steps(1) infinite;\n",
              "  }\n",
              "\n",
              "  @keyframes spin {\n",
              "    0% {\n",
              "      border-color: transparent;\n",
              "      border-bottom-color: var(--fill-color);\n",
              "      border-left-color: var(--fill-color);\n",
              "    }\n",
              "    20% {\n",
              "      border-color: transparent;\n",
              "      border-left-color: var(--fill-color);\n",
              "      border-top-color: var(--fill-color);\n",
              "    }\n",
              "    30% {\n",
              "      border-color: transparent;\n",
              "      border-left-color: var(--fill-color);\n",
              "      border-top-color: var(--fill-color);\n",
              "      border-right-color: var(--fill-color);\n",
              "    }\n",
              "    40% {\n",
              "      border-color: transparent;\n",
              "      border-right-color: var(--fill-color);\n",
              "      border-top-color: var(--fill-color);\n",
              "    }\n",
              "    60% {\n",
              "      border-color: transparent;\n",
              "      border-right-color: var(--fill-color);\n",
              "    }\n",
              "    80% {\n",
              "      border-color: transparent;\n",
              "      border-right-color: var(--fill-color);\n",
              "      border-bottom-color: var(--fill-color);\n",
              "    }\n",
              "    90% {\n",
              "      border-color: transparent;\n",
              "      border-bottom-color: var(--fill-color);\n",
              "    }\n",
              "  }\n",
              "</style>\n",
              "\n",
              "  <script>\n",
              "    async function quickchart(key) {\n",
              "      const quickchartButtonEl =\n",
              "        document.querySelector('#' + key + ' button');\n",
              "      quickchartButtonEl.disabled = true;  // To prevent multiple clicks.\n",
              "      quickchartButtonEl.classList.add('colab-df-spinner');\n",
              "      try {\n",
              "        const charts = await google.colab.kernel.invokeFunction(\n",
              "            'suggestCharts', [key], {});\n",
              "      } catch (error) {\n",
              "        console.error('Error during call to suggestCharts:', error);\n",
              "      }\n",
              "      quickchartButtonEl.classList.remove('colab-df-spinner');\n",
              "      quickchartButtonEl.classList.add('colab-df-quickchart-complete');\n",
              "    }\n",
              "    (() => {\n",
              "      let quickchartButtonEl =\n",
              "        document.querySelector('#df-f805b4f9-4862-4a9c-b6c0-1e6afe143fa5 button');\n",
              "      quickchartButtonEl.style.display =\n",
              "        google.colab.kernel.accessAllowed ? 'block' : 'none';\n",
              "    })();\n",
              "  </script>\n",
              "</div>\n",
              "\n",
              "    </div>\n",
              "  </div>\n"
            ],
            "application/vnd.google.colaboratory.intrinsic+json": {
              "type": "dataframe",
              "variable_name": "fashion_test"
            }
          },
          "metadata": {},
          "execution_count": 8
        }
      ]
    },
    {
      "cell_type": "code",
      "source": [
        "print('fashion train shape:',fashion_train.shape)\n",
        "print('fashion test shape:', fashion_test.shape)"
      ],
      "metadata": {
        "colab": {
          "base_uri": "https://localhost:8080/"
        },
        "id": "1UyBWBF0LcDo",
        "outputId": "f7a1a1ff-18aa-4d4e-a1a3-2bc7c500ff97"
      },
      "execution_count": 9,
      "outputs": [
        {
          "output_type": "stream",
          "name": "stdout",
          "text": [
            "fashion train shape: (60000, 785)\n",
            "fashion test shape: (60000, 785)\n"
          ]
        }
      ]
    },
    {
      "cell_type": "code",
      "source": [
        "train = np.array(fashion_train)\n",
        "test = np.array(fashion_test)\n",
        "x_fashion_train = train[:, 1:] / 255\n",
        "y_fashion_train = train[:,0]\n",
        "x_fashion_test = test[:, 1:] / 255\n",
        "y_fashion_test = test[:,0]\n",
        "\n",
        "print('X train shape:', x_fashion_train.shape)\n",
        "print('y train shape:', y_fashion_train.shape)\n",
        "print('X test shape:', x_fashion_test.shape)\n",
        "print('y test shape:', y_fashion_test.shape)"
      ],
      "metadata": {
        "colab": {
          "base_uri": "https://localhost:8080/"
        },
        "id": "3pgbpXYiLcmL",
        "outputId": "2efc73cb-5b28-4eaa-af88-397bd3e708f5"
      },
      "execution_count": 10,
      "outputs": [
        {
          "output_type": "stream",
          "name": "stdout",
          "text": [
            "X train shape: (60000, 784)\n",
            "y train shape: (60000,)\n",
            "X test shape: (60000, 784)\n",
            "y test shape: (60000,)\n"
          ]
        }
      ]
    },
    {
      "cell_type": "code",
      "source": [
        "# random image display\n",
        "image = np.random.randint(0, x_fashion_train.shape[0])\n",
        "print(look_up[y_fashion_train[image]])\n",
        "plt.gray()\n",
        "plt.imshow(x_fashion_train[image].reshape(28, 28));"
      ],
      "metadata": {
        "colab": {
          "base_uri": "https://localhost:8080/",
          "height": 447
        },
        "id": "OMY9Q0_cL6Hs",
        "outputId": "47c62281-3025-433b-d3c4-9b66d2397b57"
      },
      "execution_count": 12,
      "outputs": [
        {
          "output_type": "stream",
          "name": "stdout",
          "text": [
            "Trouser\n"
          ]
        },
        {
          "output_type": "display_data",
          "data": {
            "text/plain": [
              "<Figure size 640x480 with 1 Axes>"
            ],
            "image/png": "[encoded data removed]"
          },
          "metadata": {}
        }
      ]
    },
    {
      "cell_type": "code",
      "source": [
        "# setting some hyperparameters\n",
        "input_size = x_fashion_train.shape[1]\n",
        "hidden_size = 8\n",
        "output_size = len(look_up.keys())\n",
        "fashion_nn = NeuralNetwork(input_size, hidden_size, output_size)"
      ],
      "metadata": {
        "id": "ENvJYkLLMC9c"
      },
      "execution_count": 13,
      "outputs": []
    },
    {
      "cell_type": "code",
      "source": [
        "%%time\n",
        "fashion_nn.fit(X=x_fashion_train,  Y=fashion_nn.one_hot_encode(y_fashion_train), epochs=1000, learning_rate=0.1)"
      ],
      "metadata": {
        "colab": {
          "base_uri": "https://localhost:8080/"
        },
        "id": "snJBjuuQMOTX",
        "outputId": "5763624e-71b9-412a-beb0-96fb3fd4db13"
      },
      "execution_count": 14,
      "outputs": [
        {
          "output_type": "stream",
          "name": "stdout",
          "text": [
            "Epoch: 0/1000 [==============================] Loss: 2.3029 - Accuracy: 10.46\n",
            "Epoch: 50/1000 [==============================] Loss: 1.8310 - Accuracy: 27.96\n",
            "Epoch: 100/1000 [==============================] Loss: 1.1483 - Accuracy: 60.92\n",
            "Epoch: 150/1000 [==============================] Loss: 0.9504 - Accuracy: 63.44\n",
            "Epoch: 200/1000 [==============================] Loss: 0.8377 - Accuracy: 66.06\n",
            "Epoch: 250/1000 [==============================] Loss: 0.7798 - Accuracy: 69.09\n",
            "Epoch: 300/1000 [==============================] Loss: 0.7375 - Accuracy: 71.62\n",
            "Epoch: 350/1000 [==============================] Loss: 0.7021 - Accuracy: 73.51\n",
            "Epoch: 400/1000 [==============================] Loss: 0.6721 - Accuracy: 74.92\n",
            "Epoch: 450/1000 [==============================] Loss: 0.6468 - Accuracy: 76.14\n",
            "Epoch: 500/1000 [==============================] Loss: 0.6253 - Accuracy: 77.06\n",
            "Epoch: 550/1000 [==============================] Loss: 0.6066 - Accuracy: 77.95\n",
            "Epoch: 600/1000 [==============================] Loss: 0.5905 - Accuracy: 78.69\n",
            "Epoch: 650/1000 [==============================] Loss: 0.5762 - Accuracy: 79.38\n",
            "Epoch: 700/1000 [==============================] Loss: 0.5639 - Accuracy: 79.92\n",
            "Epoch: 750/1000 [==============================] Loss: 0.5535 - Accuracy: 80.39\n",
            "Epoch: 800/1000 [==============================] Loss: 0.5463 - Accuracy: 80.86\n",
            "Epoch: 850/1000 [==============================] Loss: 0.5358 - Accuracy: 81.11\n",
            "Epoch: 900/1000 [==============================] Loss: 0.5291 - Accuracy: 81.37\n",
            "Epoch: 950/1000 [==============================] Loss: 0.5237 - Accuracy: 81.66\n",
            "Epoch: 1000/1000 [==============================] Loss: 0.5170 - Accuracy: 81.77\n",
            "CPU times: user 9min 41s, sys: 3min 30s, total: 13min 11s\n",
            "Wall time: 8min 17s\n"
          ]
        }
      ]
    },
    {
      "cell_type": "code",
      "source": [],
      "metadata": {
        "id": "8zdeGVojMbfM"
      },
      "execution_count": null,
      "outputs": []
    },
    {
      "cell_type": "code",
      "source": [
        "#checking accuracy\n",
        "fashion_nn.accuracy(X=x_fashion_test, Y = fashion_nn.one_hot_encode(y_fashion_test))"
      ],
      "metadata": {
        "colab": {
          "base_uri": "https://localhost:8080/"
        },
        "id": "PramSBwSMcDC",
        "outputId": "c0e54972-f289-48d1-e115-2efc80092423"
      },
      "execution_count": 15,
      "outputs": [
        {
          "output_type": "execute_result",
          "data": {
            "text/plain": [
              "81.76833333333333"
            ]
          },
          "metadata": {},
          "execution_count": 15
        }
      ]
    },
    {
      "cell_type": "code",
      "source": [],
      "metadata": {
        "id": "c08CAnOvMi1k"
      },
      "execution_count": null,
      "outputs": []
    },
    {
      "cell_type": "code",
      "source": [
        "# picking random image and making prediction\n",
        "image = np.random.randint(0, x_fashion_train.shape[0])\n",
        "print(look_up[y_fashion_test[image]])\n",
        "fashion_nn.predict_show(X=x_fashion_test[image], Y=fashion_nn.one_hot_encode(y_fashion_test[image]))"
      ],
      "metadata": {
        "colab": {
          "base_uri": "https://localhost:8080/",
          "height": 487
        },
        "id": "myqkqQoVMjey",
        "outputId": "9546056c-2314-47c0-86a1-45441a67412d"
      },
      "execution_count": 23,
      "outputs": [
        {
          "output_type": "stream",
          "name": "stdout",
          "text": [
            "Dress\n",
            "Predicted: [3] actual is: [3]\n"
          ]
        },
        {
          "output_type": "display_data",
          "data": {
            "text/plain": [
              "<Figure size 640x480 with 1 Axes>"
            ],
            "image/png": "[encoded data removed]"
          },
          "metadata": {}
        }
      ]
    }
  ]
}